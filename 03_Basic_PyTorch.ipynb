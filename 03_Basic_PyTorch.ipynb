{
  "nbformat": 4,
  "nbformat_minor": 0,
  "metadata": {
    "kernelspec": {
      "display_name": "Python 3",
      "language": "python",
      "name": "python3"
    },
    "language_info": {
      "codemirror_mode": {
        "name": "ipython",
        "version": 3
      },
      "file_extension": ".py",
      "mimetype": "text/x-python",
      "name": "python",
      "nbconvert_exporter": "python",
      "pygments_lexer": "ipython3",
      "version": "3.7.6"
    },
    "colab": {
      "name": "03-Basic-PyTorch-NN.ipynb",
      "provenance": []
    }
  },
  "cells": [
    {
      "cell_type": "markdown",
      "metadata": {
        "collapsed": true,
        "id": "msbZsTMvaa2r",
        "colab_type": "text"
      },
      "source": [
        "Our goal is to develop a model capable of classifying an iris plant based on four features. This is a multi-class classification where each sample can belong to ONE of 3 classes (<em>Iris setosa</em>, <em>Iris virginica</em> or <em>Iris versicolor</em>). The network will have 4 input neurons (flower dimensions) and 3 output neurons (scores). Our loss function will compare the target label (ground truth) to the corresponding output score. "
      ]
    },
    {
      "cell_type": "markdown",
      "metadata": {
        "id": "WyMn9PMFaa2s",
        "colab_type": "text"
      },
      "source": [
        "<div class=\"alert alert-info\"><strong>NOTE:</strong> Multi-class classifications usually involve converting the target vector to a one_hot encoded matrix. That is, if 5 labels show up as<br>\n",
        "<pre style='background-color:rgb(217,237,247)'>tensor([0,2,1,0,1])</pre>\n",
        "then we would encode them as:\n",
        "<pre style='background-color:rgb(217,237,247)'>tensor([[1, 0, 0],\n",
        "        [0, 0, 1],\n",
        "        [0, 1, 0],\n",
        "        [1, 0, 0],\n",
        "        [0, 1, 0]])</pre>\n",
        "This is easily accomplished with <a href='https://pytorch.org/docs/stable/nn.html#one-hot'><strong><tt>torch.nn.functional.one_hot()</tt></strong></a>.<br>\n",
        "However, my loss function <a href='https://pytorch.org/docs/stable/nn.html#crossentropyloss'><strong><tt>torch.nn.CrossEntropyLoss()</tt></strong></a> takes care of this for us.</div>"
      ]
    },
    {
      "cell_type": "code",
      "metadata": {
        "id": "EgcSm2bqA7S4",
        "colab_type": "code",
        "colab": {}
      },
      "source": [
        "from sklearn import datasets\n",
        "\n",
        "#Load dataset\n",
        "iris = datasets.load_iris()\n",
        "\n",
        "# Creating a DataFrame of given iris dataset.\n",
        "import pandas as pd\n",
        "data=pd.DataFrame({\n",
        "    'sepal length':iris.data[:,0],\n",
        "    'sepal width':iris.data[:,1],\n",
        "    'petal length':iris.data[:,2],\n",
        "    'petal width':iris.data[:,3],\n",
        "    'species':iris.target\n",
        "})\n"
      ],
      "execution_count": 0,
      "outputs": []
    },
    {
      "cell_type": "markdown",
      "metadata": {
        "id": "C1AtenN_aa2t",
        "colab_type": "text"
      },
      "source": [
        "## Perform standard imports"
      ]
    },
    {
      "cell_type": "code",
      "metadata": {
        "id": "sqTk74iIaa2u",
        "colab_type": "code",
        "colab": {}
      },
      "source": [
        "import torch\n",
        "import torch.nn as nn\n",
        "import torch.nn.functional as F\n",
        "from torch.utils.data import Dataset, DataLoader\n",
        "from sklearn.model_selection import train_test_split\n",
        "\n",
        "import pandas as pd\n",
        "import matplotlib.pyplot as plt\n",
        "%matplotlib inline"
      ],
      "execution_count": 0,
      "outputs": []
    },
    {
      "cell_type": "markdown",
      "metadata": {
        "id": "2YITGBuuaa2y",
        "colab_type": "text"
      },
      "source": [
        "## Create a model class\n",
        "For this exercise we're using the Iris dataset. Since a single straight line can't classify three flowers we should include at least one hidden layer in our model.\n",
        "\n",
        "In the forward section we'll use the <a href='https://en.wikipedia.org/wiki/Rectifier_(neural_networks)'>rectified linear unit</a> (ReLU)  function<br>\n",
        "$\\quad f(x)=max(0,x)$<br>\n",
        "as our activation function. This is available as a full module <a href='https://pytorch.org/docs/stable/nn.html#relu'><strong><tt>torch.nn.ReLU</tt></strong></a> or as just a functional call <a href='https://pytorch.org/docs/stable/nn.html#id27'><strong><tt>torch.nn.functional.relu</tt></strong></a>"
      ]
    },
    {
      "cell_type": "code",
      "metadata": {
        "id": "XxNr0-PWaa2y",
        "colab_type": "code",
        "colab": {}
      },
      "source": [
        "class Model(nn.Module):\n",
        "    def __init__(self, in_features=4, h1=8, h2=9, out_features=3):\n",
        "        super().__init__()\n",
        "        self.fc1 = nn.Linear(in_features,h1)    # input layer\n",
        "        self.fc2 = nn.Linear(h1, h2)            # hidden layer\n",
        "        self.out = nn.Linear(h2, out_features)  # output layer\n",
        "        \n",
        "    def forward(self, x):\n",
        "        x = F.relu(self.fc1(x))\n",
        "        x = F.relu(self.fc2(x))\n",
        "        x = self.out(x)\n",
        "        return x"
      ],
      "execution_count": 0,
      "outputs": []
    },
    {
      "cell_type": "code",
      "metadata": {
        "id": "6vUMv02baa21",
        "colab_type": "code",
        "colab": {}
      },
      "source": [
        "# Instantiate the Model class using parameter defaults:\n",
        "torch.manual_seed(32)\n",
        "model = Model()"
      ],
      "execution_count": 0,
      "outputs": []
    },
    {
      "cell_type": "markdown",
      "metadata": {
        "id": "Wc-FGznxaa23",
        "colab_type": "text"
      },
      "source": [
        "## Load the iris dataset"
      ]
    },
    {
      "cell_type": "code",
      "metadata": {
        "id": "BubJzz_eaa24",
        "colab_type": "code",
        "outputId": "11be476e-da7d-4315-b4c5-217ec0af9bc3",
        "colab": {
          "base_uri": "https://localhost:8080/",
          "height": 204
        }
      },
      "source": [
        "df = data\n",
        "df.head()"
      ],
      "execution_count": 0,
      "outputs": [
        {
          "output_type": "execute_result",
          "data": {
            "text/html": [
              "<div>\n",
              "<style scoped>\n",
              "    .dataframe tbody tr th:only-of-type {\n",
              "        vertical-align: middle;\n",
              "    }\n",
              "\n",
              "    .dataframe tbody tr th {\n",
              "        vertical-align: top;\n",
              "    }\n",
              "\n",
              "    .dataframe thead th {\n",
              "        text-align: right;\n",
              "    }\n",
              "</style>\n",
              "<table border=\"1\" class=\"dataframe\">\n",
              "  <thead>\n",
              "    <tr style=\"text-align: right;\">\n",
              "      <th></th>\n",
              "      <th>sepal length</th>\n",
              "      <th>sepal width</th>\n",
              "      <th>petal length</th>\n",
              "      <th>petal width</th>\n",
              "      <th>species</th>\n",
              "    </tr>\n",
              "  </thead>\n",
              "  <tbody>\n",
              "    <tr>\n",
              "      <th>0</th>\n",
              "      <td>5.1</td>\n",
              "      <td>3.5</td>\n",
              "      <td>1.4</td>\n",
              "      <td>0.2</td>\n",
              "      <td>0</td>\n",
              "    </tr>\n",
              "    <tr>\n",
              "      <th>1</th>\n",
              "      <td>4.9</td>\n",
              "      <td>3.0</td>\n",
              "      <td>1.4</td>\n",
              "      <td>0.2</td>\n",
              "      <td>0</td>\n",
              "    </tr>\n",
              "    <tr>\n",
              "      <th>2</th>\n",
              "      <td>4.7</td>\n",
              "      <td>3.2</td>\n",
              "      <td>1.3</td>\n",
              "      <td>0.2</td>\n",
              "      <td>0</td>\n",
              "    </tr>\n",
              "    <tr>\n",
              "      <th>3</th>\n",
              "      <td>4.6</td>\n",
              "      <td>3.1</td>\n",
              "      <td>1.5</td>\n",
              "      <td>0.2</td>\n",
              "      <td>0</td>\n",
              "    </tr>\n",
              "    <tr>\n",
              "      <th>4</th>\n",
              "      <td>5.0</td>\n",
              "      <td>3.6</td>\n",
              "      <td>1.4</td>\n",
              "      <td>0.2</td>\n",
              "      <td>0</td>\n",
              "    </tr>\n",
              "  </tbody>\n",
              "</table>\n",
              "</div>"
            ],
            "text/plain": [
              "   sepal length  sepal width  petal length  petal width  species\n",
              "0           5.1          3.5           1.4          0.2        0\n",
              "1           4.9          3.0           1.4          0.2        0\n",
              "2           4.7          3.2           1.3          0.2        0\n",
              "3           4.6          3.1           1.5          0.2        0\n",
              "4           5.0          3.6           1.4          0.2        0"
            ]
          },
          "metadata": {
            "tags": []
          },
          "execution_count": 5
        }
      ]
    },
    {
      "cell_type": "markdown",
      "metadata": {
        "id": "glcsFuDnaa27",
        "colab_type": "text"
      },
      "source": [
        "## Plot the dataset\n",
        "The iris dataset has 4 features. To get an idea how they correlate we can plot four different relationships among them.<br>\n",
        "We'll use the index positions of the columns to grab their names in pairs with <tt>plots = [(0,1),(2,3),(0,2),(1,3)]</tt>.<br>\n",
        "Here <tt>(0,1)</tt> sets \"sepal length (cm)\" as <tt>x</tt> and \"sepal width (cm)\" as <tt>y</tt>"
      ]
    },
    {
      "cell_type": "code",
      "metadata": {
        "id": "5asYC_wIaa27",
        "colab_type": "code",
        "outputId": "ad8404f2-27ef-4884-d969-b2a7c987ead8",
        "colab": {
          "base_uri": "https://localhost:8080/",
          "height": 526
        }
      },
      "source": [
        "fig, axes = plt.subplots(nrows=2, ncols=2, figsize=(10,7))\n",
        "fig.tight_layout()\n",
        "\n",
        "plots = [(0,1),(2,3),(0,2),(1,3)]\n",
        "colors = ['b', 'r', 'g']\n",
        "labels = ['Iris setosa','Iris virginica','Iris versicolor']\n",
        "\n",
        "for i, ax in enumerate(axes.flat):\n",
        "    for j in range(3):\n",
        "        x = df.columns[plots[i][0]]\n",
        "        y = df.columns[plots[i][1]]\n",
        "        ax.scatter(df[df['species']==j][x], df[df['species']==j][y], color=colors[j])\n",
        "        ax.set(xlabel=x, ylabel=y)\n",
        "\n",
        "fig.legend(labels=labels, loc=3, bbox_to_anchor=(1.0,0.85))\n",
        "plt.show()"
      ],
      "execution_count": 0,
      "outputs": [
        {
          "output_type": "display_data",
          "data": {
            "image/png": "[encoded data removed]",
            "text/plain": [
              "<Figure size 720x504 with 4 Axes>"
            ]
          },
          "metadata": {
            "tags": [],
            "needs_background": "light"
          }
        }
      ]
    },
    {
      "cell_type": "markdown",
      "metadata": {
        "id": "0XOXAsbKaa2-",
        "colab_type": "text"
      },
      "source": [
        "## Perform Train/Test/Split"
      ]
    },
    {
      "cell_type": "code",
      "metadata": {
        "id": "fvfHo53laa2-",
        "colab_type": "code",
        "colab": {}
      },
      "source": [
        "X = df.drop('species',axis=1).values\n",
        "y = df['species'].values\n",
        "\n",
        "X_train, X_test, y_train, y_test = train_test_split(X,y,test_size=0.2,random_state=33)\n",
        "\n",
        "X_train = torch.FloatTensor(X_train)\n",
        "X_test = torch.FloatTensor(X_test)\n",
        "# y_train = F.one_hot(torch.LongTensor(y_train))  # not needed with Cross Entropy Loss\n",
        "# y_test = F.one_hot(torch.LongTensor(y_test))\n",
        "y_train = torch.LongTensor(y_train)\n",
        "y_test = torch.LongTensor(y_test)"
      ],
      "execution_count": 0,
      "outputs": []
    },
    {
      "cell_type": "markdown",
      "metadata": {
        "id": "IZfB2jdYaa3B",
        "colab_type": "text"
      },
      "source": [
        "## Prepare DataLoader\n",
        "For this analysis we don't need to create a Dataset object, but we should take advantage of PyTorch's DataLoader tool. Even though our dataset is small (120 training samples), we'll load it into our model in two batches. This technique becomes very helpful with large datasets.\n",
        "\n",
        "Note that scikit-learn already shuffled the source dataset before preparing train and test sets. We'll still benefit from the DataLoader shuffle utility for model training if we make multiple passes throught the dataset."
      ]
    },
    {
      "cell_type": "code",
      "metadata": {
        "id": "3oPrK6jHaa3B",
        "colab_type": "code",
        "colab": {}
      },
      "source": [
        "trainloader = DataLoader(X_train, batch_size=60, shuffle=True)\n",
        "\n",
        "testloader = DataLoader(X_test, batch_size=60, shuffle=False)"
      ],
      "execution_count": 0,
      "outputs": []
    },
    {
      "cell_type": "markdown",
      "metadata": {
        "id": "1YVTwt6Xaa3D",
        "colab_type": "text"
      },
      "source": [
        "## Define loss equations and optimizations\n",
        "As before, we'll utilize <a href='https://en.wikipedia.org/wiki/Cross_entropy'>Cross Entropy</a> with <a href='https://pytorch.org/docs/stable/nn.html#crossentropyloss'><strong><tt>torch.nn.CrossEntropyLoss()</tt></strong></a><br>\n",
        "For the optimizer, we'll use a variation of Stochastic Gradient Descent called <a href='https://en.wikipedia.org/wiki/Stochastic_gradient_descent#Adam'>Adam</a> (short for Adaptive Moment Estimation), with <a href='https://pytorch.org/docs/stable/optim.html#torch.optim.Adam'><strong><tt>torch.optim.Adam()</tt></strong></a>"
      ]
    },
    {
      "cell_type": "code",
      "metadata": {
        "id": "XtcSe8Iqaa3E",
        "colab_type": "code",
        "colab": {}
      },
      "source": [
        "# FOR REDO\n",
        "torch.manual_seed(4)\n",
        "model = Model()"
      ],
      "execution_count": 0,
      "outputs": []
    },
    {
      "cell_type": "code",
      "metadata": {
        "id": "3zapTeCxaa3G",
        "colab_type": "code",
        "colab": {}
      },
      "source": [
        "criterion = nn.CrossEntropyLoss()\n",
        "optimizer = torch.optim.Adam(model.parameters(), lr=0.01)"
      ],
      "execution_count": 0,
      "outputs": []
    },
    {
      "cell_type": "markdown",
      "metadata": {
        "id": "KrqOOVKuaa3J",
        "colab_type": "text"
      },
      "source": [
        "## Train the model"
      ]
    },
    {
      "cell_type": "code",
      "metadata": {
        "id": "UckSkpd4aa3K",
        "colab_type": "code",
        "colab": {}
      },
      "source": [
        "epochs = 100\n",
        "losses = []\n",
        "\n",
        "for i in range(epochs):\n",
        "    i+=1\n",
        "    y_pred = model.forward(X_train)\n",
        "    loss = criterion(y_pred, y_train)\n",
        "    losses.append(loss)\n",
        "    \n",
        "    # a neat trick to save screen space:\n",
        "    if i%10 == 1:\n",
        "        print(f'epoch: {i:2}  loss: {loss.item():10.8f}')\n",
        "\n",
        "    optimizer.zero_grad()\n",
        "    loss.backward()\n",
        "    optimizer.step()"
      ],
      "execution_count": 0,
      "outputs": []
    },
    {
      "cell_type": "markdown",
      "metadata": {
        "id": "5dR_naT0aa3O",
        "colab_type": "text"
      },
      "source": [
        "## Plot the loss function"
      ]
    },
    {
      "cell_type": "code",
      "metadata": {
        "id": "TcOi_yTxaa3P",
        "colab_type": "code",
        "outputId": "955b082d-eb39-4036-96fd-c7b9049d8b56",
        "colab": {
          "base_uri": "https://localhost:8080/",
          "height": 279
        }
      },
      "source": [
        "plt.plot(range(epochs), losses)\n",
        "plt.ylabel('Loss')\n",
        "plt.xlabel('epoch');"
      ],
      "execution_count": 0,
      "outputs": [
        {
          "output_type": "display_data",
          "data": {
            "image/png": "[encoded data removed]",
            "text/plain": [
              "<Figure size 432x288 with 1 Axes>"
            ]
          },
          "metadata": {
            "tags": [],
            "needs_background": "light"
          }
        }
      ]
    },
    {
      "cell_type": "markdown",
      "metadata": {
        "id": "x_jGkHQ8aa3R",
        "colab_type": "text"
      },
      "source": [
        "## Validate the model\n",
        "Now we run the test set through the model to see if the loss calculation resembles the training data."
      ]
    },
    {
      "cell_type": "code",
      "metadata": {
        "id": "b0jFlL9Uaa3S",
        "colab_type": "code",
        "outputId": "7363ba83-a35c-49c8-eb28-8ff90489b077",
        "colab": {
          "base_uri": "https://localhost:8080/",
          "height": 34
        }
      },
      "source": [
        "# TO EVALUATE THE ENTIRE TEST SET\n",
        "with torch.no_grad():\n",
        "    y_val = model.forward(X_test)\n",
        "    loss = criterion(y_val, y_test)\n",
        "print(f'{loss:.8f}')"
      ],
      "execution_count": 0,
      "outputs": [
        {
          "output_type": "stream",
          "text": [
            "0.06236191\n"
          ],
          "name": "stdout"
        }
      ]
    },
    {
      "cell_type": "code",
      "metadata": {
        "id": "nee2EP_Faa3V",
        "colab_type": "code",
        "outputId": "b8d1bbb6-a187-44e5-9fc8-d26a05779827",
        "colab": {
          "base_uri": "https://localhost:8080/",
          "height": 561
        }
      },
      "source": [
        "correct = 0\n",
        "with torch.no_grad():\n",
        "    for i,data in enumerate(X_test):\n",
        "        y_val = model.forward(data)\n",
        "        print(f'{i+1:2}. {str(y_val):38}  {y_test[i]}')\n",
        "        if y_val.argmax().item() == y_test[i]:\n",
        "            correct += 1\n",
        "print(f'\\n{correct} out of {len(y_test)} = {100*correct/len(y_test):.2f}% correct')"
      ],
      "execution_count": 0,
      "outputs": [
        {
          "output_type": "stream",
          "text": [
            " 1. tensor([-0.3405,  7.3566,  1.3707])     1\n",
            " 2. tensor([0.2747, 8.1488, 0.4138])        1\n",
            " 3. tensor([ 11.9818,   6.1788, -19.1899])  0\n",
            " 4. tensor([-2.0217,  7.9597,  4.2340])     1\n",
            " 5. tensor([-6.1397,  7.9443, 11.0864])     2\n",
            " 6. tensor([-10.2711,   8.3000,  18.0008])  2\n",
            " 7. tensor([ 12.0381,   6.4263, -19.2827])  0\n",
            " 8. tensor([ 12.9323,   6.4755, -20.7418])  0\n",
            " 9. tensor([-5.7778,  8.2352, 10.5033])     2\n",
            "10. tensor([-7.8917,  8.6034, 14.0678])     2\n",
            "11. tensor([-8.7110,  8.5980, 15.4298])     2\n",
            "12. tensor([ 11.6191,   5.8112, -18.6104])  0\n",
            "13. tensor([-8.1081,  8.2234, 14.3879])     2\n",
            "14. tensor([-2.0836,  7.7684,  4.3107])     1\n",
            "15. tensor([-6.0867,  8.3830, 11.0509])     2\n",
            "16. tensor([0.1330, 7.8598, 0.6288])        1\n",
            "17. tensor([-4.0930,  7.7140,  7.6592])     2\n",
            "18. tensor([ 13.1338,   6.5848, -21.0678])  0\n",
            "19. tensor([-1.5696,  8.0146,  3.4673])     1\n",
            "20. tensor([-6.2900,  8.9642, 11.4163])     2\n",
            "21. tensor([ 12.3687,   6.2517, -19.8166])  0\n",
            "22. tensor([ 13.8037,   7.0790, -22.1457])  0\n",
            "23. tensor([-8.8527,  8.3090, 15.6448])     2\n",
            "24. tensor([ 12.1811,   6.1210, -19.5152])  0\n",
            "25. tensor([-5.8117,  7.5402, 10.5277])     2\n",
            "26. tensor([-4.4569,  7.7801,  8.2799])     2\n",
            "27. tensor([-1.4331,  7.7717,  3.2245])     1\n",
            "28. tensor([ 0.5324,  7.5300, -0.0604])     1\n",
            "29. tensor([-5.8277,  8.1491, 10.5915])     2\n",
            "30. tensor([-5.2631,  7.7396,  9.6074])     2\n",
            "\n",
            "29 out of 30 = 96.67% correct\n"
          ],
          "name": "stdout"
        }
      ]
    },
    {
      "cell_type": "markdown",
      "metadata": {
        "id": "NnerdDDpaa3X",
        "colab_type": "text"
      },
      "source": [
        "Here we can see that #17 was misclassified."
      ]
    },
    {
      "cell_type": "code",
      "metadata": {
        "id": "8-T_w7sMBeT1",
        "colab_type": "code",
        "colab": {}
      },
      "source": [
        "from sklearn import datasets\n",
        "\n",
        "#Load dataset\n",
        "iris = datasets.load_iris()\n",
        "\n",
        "# Creating a DataFrame of given iris dataset.\n",
        "import pandas as pd\n",
        "data=pd.DataFrame({\n",
        "    'sepal length':iris.data[:,0],\n",
        "    'sepal width':iris.data[:,1],\n",
        "    'petal length':iris.data[:,2],\n",
        "    'petal width':iris.data[:,3],\n",
        "    'species':iris.target\n",
        "})"
      ],
      "execution_count": 0,
      "outputs": []
    },
    {
      "cell_type": "markdown",
      "metadata": {
        "id": "zxxwrSK5bcqm",
        "colab_type": "text"
      },
      "source": [
        "Random Forest Algorithm"
      ]
    },
    {
      "cell_type": "code",
      "metadata": {
        "id": "nyc7XkQWdbiI",
        "colab_type": "code",
        "colab": {}
      },
      "source": [
        "from sklearn.model_selection import train_test_split\n",
        "\n",
        "X=data[['sepal length', 'sepal width', 'petal length', 'petal width']]  # Features\n",
        "y=data['species']  # Labels\n",
        "\n",
        "# Split dataset into training set and test set\n",
        "X_train, X_test, y_train, y_test = train_test_split(X, y, test_size=0.3) # 70% training and 30% test\n"
      ],
      "execution_count": 0,
      "outputs": []
    },
    {
      "cell_type": "code",
      "metadata": {
        "id": "zkcaa8uPdkTf",
        "colab_type": "code",
        "colab": {}
      },
      "source": [
        "#Import Random Forest Model\n",
        "from sklearn.ensemble import RandomForestClassifier\n",
        "\n",
        "#Create a Gaussian Classifier\n",
        "clf=RandomForestClassifier(n_estimators=100)\n",
        "\n",
        "#Train the model using the training sets y_pred=clf.predict(X_test)\n",
        "clf.fit(X_train,y_train)\n",
        "\n",
        "y_pred=clf.predict(X_test)"
      ],
      "execution_count": 0,
      "outputs": []
    },
    {
      "cell_type": "code",
      "metadata": {
        "id": "mNSOL14BdoAH",
        "colab_type": "code",
        "outputId": "7a0aae77-a281-4f8d-9ffd-0061d2d4a478",
        "colab": {
          "base_uri": "https://localhost:8080/",
          "height": 34
        }
      },
      "source": [
        "#Import scikit-learn metrics module for accuracy calculation\n",
        "from sklearn import metrics\n",
        "# Model Accuracy, how often is the classifier correct?\n",
        "print(\"Accuracy:\",metrics.accuracy_score(y_test, y_pred))"
      ],
      "execution_count": 0,
      "outputs": [
        {
          "output_type": "stream",
          "text": [
            "Accuracy: 0.9555555555555556\n"
          ],
          "name": "stdout"
        }
      ]
    }
  ]
}